{
 "cells": [
  {
   "cell_type": "markdown",
   "metadata": {},
   "source": [
    "## Importing Libraries"
   ]
  },
  {
   "cell_type": "code",
   "execution_count": 64,
   "metadata": {},
   "outputs": [],
   "source": [
    "import pandas as pd\n",
    "import sys\n",
    "import matplotlib.pyplot as plt\n",
    "import seaborn as sns\n",
    "import numpy as np\n",
    "import datetime\n",
    "from datetime import datetime\n",
    "import geopandas\n",
    "from sklearn.impute import SimpleImputer\n"
   ]
  },
  {
   "cell_type": "markdown",
   "metadata": {},
   "source": [
    "## Getting to know the Data\n"
   ]
  },
  {
   "cell_type": "markdown",
   "metadata": {},
   "source": [
    "### Description of the Provided CSV Files\n",
    "\n",
    "- **ticket_data.csv**:\n",
    "  Contains a ticket history where each row represents a ticket proposal on tictactrip.\n",
    "\n",
    "- **cities.csv**:\n",
    "  Contains information about cities served by tictactrip. Links can be established through the columns 'o_city' (origin_city) and 'd_city' (destination_city) in the ticket_data.\n",
    "\n",
    "- **stations.csv**:\n",
    "  Includes data about stations served by tictactrip. Links can be established through the columns 'o_station' and 'd_station' in the ticket_data.\n",
    "\n",
    "- **providers.csv**:\n",
    "  Provides information about different providers. Relationships can be made via the 'company' column in ticket_data. A provider refers to a subsidiary company. For instance, TGV and TER are two providers under VSC (voyages-sncf).\n",
    "\n",
    "The provided information outlines the content and relationships between the datasets. These relationships are established through specific columns across the datasets, facilitating data linkage and analysis within the context of tictactrip services.\n"
   ]
  },
  {
   "cell_type": "code",
   "execution_count": 19,
   "metadata": {},
   "outputs": [],
   "source": [
    "cities = pd.read_csv(\"Data\\\\cities.csv\")\n",
    "providers = pd.read_csv(\"Data\\\\providers.csv\")\n",
    "stations = pd.read_csv(\"Data\\\\stations.csv\")\n",
    "ticket = pd.read_csv(\"Data\\\\ticket_data.csv\")"
   ]
  },
  {
   "cell_type": "code",
   "execution_count": 50,
   "metadata": {},
   "outputs": [
    {
     "name": "stdout",
     "output_type": "stream",
     "text": [
      "Columns of cities \n",
      "['id', 'local_name', 'unique_name', 'latitude', 'longitude', 'population']\n",
      "\n",
      "Columns of providers \n",
      "['id', 'company_id', 'provider_id', 'name', 'fullname', 'has_wifi', 'has_plug', 'has_adjustable_seats', 'has_bicycle', 'transport_type']\n",
      "\n",
      "Columns of stations \n",
      "['id', 'unique_name', 'latitude', 'longitude']\n",
      "\n",
      "Columns of ticket \n",
      "['id', 'company', 'o_station', 'd_station', 'departure_ts', 'arrival_ts', 'price_in_cents', 'search_ts', 'middle_stations', 'other_companies', 'o_city', 'd_city']\n",
      "\n"
     ]
    }
   ],
   "source": [
    "dataframes = [(\"cities\", cities), (\"providers\", providers), (\"stations\", stations), (\"ticket\", ticket)]\n",
    "\n",
    "for df_name, df in dataframes:\n",
    "\n",
    "    print(f\"Columns of {df_name} \\n{df.columns.tolist()}\\n\")"
   ]
  },
  {
   "cell_type": "markdown",
   "metadata": {},
   "source": [
    "## Renaming Columns in Datasets for Enhanced Clarity and Manageability\n",
    "\n",
    "In this section, columns within multiple datasets have been renamed utilizing Pandas functionality. The objective behind this action is to enhance the clarity and manageability of the datasets by assigning more explicit and descriptive column names.\n",
    "\n",
    "Below is the Python code snippet showcasing the column renaming process:"
   ]
  },
  {
   "cell_type": "code",
   "execution_count": 51,
   "metadata": {},
   "outputs": [],
   "source": [
    "\n",
    "\n",
    "cities.drop(['local_name'], axis=1, inplace=True)\n",
    "cities.rename(columns={'id':'city_id',\n",
    "                            'unique_name':'city_name',\n",
    "                            'latitude':'city_latitude',\n",
    "                            'longitude':'city_longitude',\n",
    "                            'population':'city_population'}, inplace=True)\n",
    "\n",
    "\n",
    "providers.rename(columns={'id':'true_company_id',\n",
    "                               'name':'company_name',\n",
    "                               'fullname':'company_fullname'}, inplace=True)\n",
    "\n",
    "stations.rename(columns={'id':'station_id',\n",
    "                              'unique_name' : 'station_name',\n",
    "                              'latitude':'station_latitude',\n",
    "                              'longitude':'station_longitude'}, inplace=True)\n",
    "\n",
    "\n",
    "ticket.rename(columns={'id':'ticket_id'}, inplace=True)\n",
    "\n",
    "     "
   ]
  },
  {
   "cell_type": "markdown",
   "metadata": {},
   "source": [
    "## Exploring the Datasets\n",
    "\n",
    "### Overview and Statistical Summary\n",
    "\n",
    "The following code snippets offer insights into the datasets, providing a comprehensive understanding of its structure, statistical characteristics, and missing values."
   ]
  },
  {
   "cell_type": "markdown",
   "metadata": {},
   "source": [
    "### Cities"
   ]
  },
  {
   "cell_type": "code",
   "execution_count": 52,
   "metadata": {},
   "outputs": [
    {
     "name": "stdout",
     "output_type": "stream",
     "text": [
      "(8040, 5)\n"
     ]
    },
    {
     "data": {
      "text/html": [
       "<div>\n",
       "<style scoped>\n",
       "    .dataframe tbody tr th:only-of-type {\n",
       "        vertical-align: middle;\n",
       "    }\n",
       "\n",
       "    .dataframe tbody tr th {\n",
       "        vertical-align: top;\n",
       "    }\n",
       "\n",
       "    .dataframe thead th {\n",
       "        text-align: right;\n",
       "    }\n",
       "</style>\n",
       "<table border=\"1\" class=\"dataframe\">\n",
       "  <thead>\n",
       "    <tr style=\"text-align: right;\">\n",
       "      <th></th>\n",
       "      <th>city_id</th>\n",
       "      <th>city_name</th>\n",
       "      <th>city_latitude</th>\n",
       "      <th>city_longitude</th>\n",
       "      <th>city_population</th>\n",
       "    </tr>\n",
       "  </thead>\n",
       "  <tbody>\n",
       "    <tr>\n",
       "      <th>0</th>\n",
       "      <td>5159</td>\n",
       "      <td>padua</td>\n",
       "      <td>45.406435</td>\n",
       "      <td>11.876761</td>\n",
       "      <td>209678.0</td>\n",
       "    </tr>\n",
       "    <tr>\n",
       "      <th>1</th>\n",
       "      <td>76</td>\n",
       "      <td>barcelona</td>\n",
       "      <td>41.385064</td>\n",
       "      <td>2.173404</td>\n",
       "      <td>1611822.0</td>\n",
       "    </tr>\n",
       "    <tr>\n",
       "      <th>2</th>\n",
       "      <td>81</td>\n",
       "      <td>basel</td>\n",
       "      <td>47.593437</td>\n",
       "      <td>7.619812</td>\n",
       "      <td>NaN</td>\n",
       "    </tr>\n",
       "    <tr>\n",
       "      <th>3</th>\n",
       "      <td>259</td>\n",
       "      <td>erlangen</td>\n",
       "      <td>49.589674</td>\n",
       "      <td>11.011961</td>\n",
       "      <td>105412.0</td>\n",
       "    </tr>\n",
       "    <tr>\n",
       "      <th>4</th>\n",
       "      <td>11979</td>\n",
       "      <td>balș</td>\n",
       "      <td>44.353354</td>\n",
       "      <td>24.095672</td>\n",
       "      <td>NaN</td>\n",
       "    </tr>\n",
       "  </tbody>\n",
       "</table>\n",
       "</div>"
      ],
      "text/plain": [
       "   city_id  city_name  city_latitude  city_longitude  city_population\n",
       "0     5159      padua      45.406435       11.876761         209678.0\n",
       "1       76  barcelona      41.385064        2.173404        1611822.0\n",
       "2       81      basel      47.593437        7.619812              NaN\n",
       "3      259   erlangen      49.589674       11.011961         105412.0\n",
       "4    11979       balș      44.353354       24.095672              NaN"
      ]
     },
     "execution_count": 52,
     "metadata": {},
     "output_type": "execute_result"
    }
   ],
   "source": [
    "print(cities.shape)\n",
    "cities.head()"
   ]
  },
  {
   "cell_type": "code",
   "execution_count": 53,
   "metadata": {},
   "outputs": [
    {
     "data": {
      "text/html": [
       "<div>\n",
       "<style scoped>\n",
       "    .dataframe tbody tr th:only-of-type {\n",
       "        vertical-align: middle;\n",
       "    }\n",
       "\n",
       "    .dataframe tbody tr th {\n",
       "        vertical-align: top;\n",
       "    }\n",
       "\n",
       "    .dataframe thead th {\n",
       "        text-align: right;\n",
       "    }\n",
       "</style>\n",
       "<table border=\"1\" class=\"dataframe\">\n",
       "  <thead>\n",
       "    <tr style=\"text-align: right;\">\n",
       "      <th></th>\n",
       "      <th>city_id</th>\n",
       "      <th>city_latitude</th>\n",
       "      <th>city_longitude</th>\n",
       "      <th>city_population</th>\n",
       "    </tr>\n",
       "  </thead>\n",
       "  <tbody>\n",
       "    <tr>\n",
       "      <th>count</th>\n",
       "      <td>8040.000000</td>\n",
       "      <td>8040.000000</td>\n",
       "      <td>8040.000000</td>\n",
       "      <td>3.690000e+02</td>\n",
       "    </tr>\n",
       "    <tr>\n",
       "      <th>mean</th>\n",
       "      <td>6328.786816</td>\n",
       "      <td>47.223456</td>\n",
       "      <td>6.299331</td>\n",
       "      <td>3.360184e+05</td>\n",
       "    </tr>\n",
       "    <tr>\n",
       "      <th>std</th>\n",
       "      <td>3504.698537</td>\n",
       "      <td>3.700934</td>\n",
       "      <td>7.747070</td>\n",
       "      <td>5.840409e+05</td>\n",
       "    </tr>\n",
       "    <tr>\n",
       "      <th>min</th>\n",
       "      <td>1.000000</td>\n",
       "      <td>1.370676</td>\n",
       "      <td>-101.397388</td>\n",
       "      <td>1.000460e+05</td>\n",
       "    </tr>\n",
       "    <tr>\n",
       "      <th>25%</th>\n",
       "      <td>2501.500000</td>\n",
       "      <td>44.662402</td>\n",
       "      <td>1.214282</td>\n",
       "      <td>1.253750e+05</td>\n",
       "    </tr>\n",
       "    <tr>\n",
       "      <th>50%</th>\n",
       "      <td>7003.500000</td>\n",
       "      <td>47.304750</td>\n",
       "      <td>4.887856</td>\n",
       "      <td>1.803020e+05</td>\n",
       "    </tr>\n",
       "    <tr>\n",
       "      <th>75%</th>\n",
       "      <td>9014.250000</td>\n",
       "      <td>49.611998</td>\n",
       "      <td>10.311597</td>\n",
       "      <td>3.098690e+05</td>\n",
       "    </tr>\n",
       "    <tr>\n",
       "      <th>max</th>\n",
       "      <td>12192.000000</td>\n",
       "      <td>64.145981</td>\n",
       "      <td>48.731938</td>\n",
       "      <td>8.416535e+06</td>\n",
       "    </tr>\n",
       "  </tbody>\n",
       "</table>\n",
       "</div>"
      ],
      "text/plain": [
       "            city_id  city_latitude  city_longitude  city_population\n",
       "count   8040.000000    8040.000000     8040.000000     3.690000e+02\n",
       "mean    6328.786816      47.223456        6.299331     3.360184e+05\n",
       "std     3504.698537       3.700934        7.747070     5.840409e+05\n",
       "min        1.000000       1.370676     -101.397388     1.000460e+05\n",
       "25%     2501.500000      44.662402        1.214282     1.253750e+05\n",
       "50%     7003.500000      47.304750        4.887856     1.803020e+05\n",
       "75%     9014.250000      49.611998       10.311597     3.098690e+05\n",
       "max    12192.000000      64.145981       48.731938     8.416535e+06"
      ]
     },
     "execution_count": 53,
     "metadata": {},
     "output_type": "execute_result"
    }
   ],
   "source": [
    "cities.describe()"
   ]
  },
  {
   "cell_type": "code",
   "execution_count": 54,
   "metadata": {},
   "outputs": [
    {
     "data": {
      "text/plain": [
       "city_id               0\n",
       "city_name             1\n",
       "city_latitude         0\n",
       "city_longitude        0\n",
       "city_population    7671\n",
       "dtype: int64"
      ]
     },
     "execution_count": 54,
     "metadata": {},
     "output_type": "execute_result"
    }
   ],
   "source": [
    "cities.isnull().sum()"
   ]
  },
  {
   "cell_type": "markdown",
   "metadata": {},
   "source": [
    "### Providers"
   ]
  },
  {
   "cell_type": "code",
   "execution_count": 55,
   "metadata": {},
   "outputs": [
    {
     "name": "stdout",
     "output_type": "stream",
     "text": [
      "(227, 10)\n"
     ]
    },
    {
     "data": {
      "text/html": [
       "<div>\n",
       "<style scoped>\n",
       "    .dataframe tbody tr th:only-of-type {\n",
       "        vertical-align: middle;\n",
       "    }\n",
       "\n",
       "    .dataframe tbody tr th {\n",
       "        vertical-align: top;\n",
       "    }\n",
       "\n",
       "    .dataframe thead th {\n",
       "        text-align: right;\n",
       "    }\n",
       "</style>\n",
       "<table border=\"1\" class=\"dataframe\">\n",
       "  <thead>\n",
       "    <tr style=\"text-align: right;\">\n",
       "      <th></th>\n",
       "      <th>true_company_id</th>\n",
       "      <th>company_id</th>\n",
       "      <th>provider_id</th>\n",
       "      <th>company_name</th>\n",
       "      <th>company_fullname</th>\n",
       "      <th>has_wifi</th>\n",
       "      <th>has_plug</th>\n",
       "      <th>has_adjustable_seats</th>\n",
       "      <th>has_bicycle</th>\n",
       "      <th>transport_type</th>\n",
       "    </tr>\n",
       "  </thead>\n",
       "  <tbody>\n",
       "    <tr>\n",
       "      <th>0</th>\n",
       "      <td>9</td>\n",
       "      <td>1</td>\n",
       "      <td>NaN</td>\n",
       "      <td>ouibus</td>\n",
       "      <td>Ouibus</td>\n",
       "      <td>True</td>\n",
       "      <td>True</td>\n",
       "      <td>True</td>\n",
       "      <td>False</td>\n",
       "      <td>bus</td>\n",
       "    </tr>\n",
       "    <tr>\n",
       "      <th>1</th>\n",
       "      <td>10</td>\n",
       "      <td>2</td>\n",
       "      <td>NaN</td>\n",
       "      <td>deinbus</td>\n",
       "      <td>Deinbus.de</td>\n",
       "      <td>False</td>\n",
       "      <td>False</td>\n",
       "      <td>False</td>\n",
       "      <td>False</td>\n",
       "      <td>bus</td>\n",
       "    </tr>\n",
       "    <tr>\n",
       "      <th>2</th>\n",
       "      <td>11</td>\n",
       "      <td>3</td>\n",
       "      <td>NaN</td>\n",
       "      <td>infobus</td>\n",
       "      <td>Infobus</td>\n",
       "      <td>False</td>\n",
       "      <td>False</td>\n",
       "      <td>False</td>\n",
       "      <td>False</td>\n",
       "      <td>bus</td>\n",
       "    </tr>\n",
       "    <tr>\n",
       "      <th>3</th>\n",
       "      <td>12</td>\n",
       "      <td>4</td>\n",
       "      <td>NaN</td>\n",
       "      <td>studentAgency</td>\n",
       "      <td>Student Agency</td>\n",
       "      <td>False</td>\n",
       "      <td>False</td>\n",
       "      <td>False</td>\n",
       "      <td>False</td>\n",
       "      <td>bus</td>\n",
       "    </tr>\n",
       "    <tr>\n",
       "      <th>4</th>\n",
       "      <td>13</td>\n",
       "      <td>5</td>\n",
       "      <td>NaN</td>\n",
       "      <td>flixbus</td>\n",
       "      <td>Flixbus</td>\n",
       "      <td>True</td>\n",
       "      <td>False</td>\n",
       "      <td>False</td>\n",
       "      <td>False</td>\n",
       "      <td>bus</td>\n",
       "    </tr>\n",
       "  </tbody>\n",
       "</table>\n",
       "</div>"
      ],
      "text/plain": [
       "   true_company_id  company_id provider_id   company_name company_fullname  \\\n",
       "0                9           1         NaN         ouibus           Ouibus   \n",
       "1               10           2         NaN        deinbus       Deinbus.de   \n",
       "2               11           3         NaN        infobus          Infobus   \n",
       "3               12           4         NaN  studentAgency   Student Agency   \n",
       "4               13           5         NaN        flixbus          Flixbus   \n",
       "\n",
       "  has_wifi has_plug has_adjustable_seats has_bicycle transport_type  \n",
       "0     True     True                 True       False            bus  \n",
       "1    False    False                False       False            bus  \n",
       "2    False    False                False       False            bus  \n",
       "3    False    False                False       False            bus  \n",
       "4     True    False                False       False            bus  "
      ]
     },
     "execution_count": 55,
     "metadata": {},
     "output_type": "execute_result"
    }
   ],
   "source": [
    "print(providers.shape)\n",
    "providers.head()"
   ]
  },
  {
   "cell_type": "code",
   "execution_count": 56,
   "metadata": {},
   "outputs": [
    {
     "data": {
      "text/html": [
       "<div>\n",
       "<style scoped>\n",
       "    .dataframe tbody tr th:only-of-type {\n",
       "        vertical-align: middle;\n",
       "    }\n",
       "\n",
       "    .dataframe tbody tr th {\n",
       "        vertical-align: top;\n",
       "    }\n",
       "\n",
       "    .dataframe thead th {\n",
       "        text-align: right;\n",
       "    }\n",
       "</style>\n",
       "<table border=\"1\" class=\"dataframe\">\n",
       "  <thead>\n",
       "    <tr style=\"text-align: right;\">\n",
       "      <th></th>\n",
       "      <th>true_company_id</th>\n",
       "      <th>company_id</th>\n",
       "    </tr>\n",
       "  </thead>\n",
       "  <tbody>\n",
       "    <tr>\n",
       "      <th>count</th>\n",
       "      <td>227.000000</td>\n",
       "      <td>227.000000</td>\n",
       "    </tr>\n",
       "    <tr>\n",
       "      <th>mean</th>\n",
       "      <td>790.656388</td>\n",
       "      <td>9.343612</td>\n",
       "    </tr>\n",
       "    <tr>\n",
       "      <th>std</th>\n",
       "      <td>2251.823950</td>\n",
       "      <td>3.036065</td>\n",
       "    </tr>\n",
       "    <tr>\n",
       "      <th>min</th>\n",
       "      <td>9.000000</td>\n",
       "      <td>1.000000</td>\n",
       "    </tr>\n",
       "    <tr>\n",
       "      <th>25%</th>\n",
       "      <td>66.500000</td>\n",
       "      <td>9.000000</td>\n",
       "    </tr>\n",
       "    <tr>\n",
       "      <th>50%</th>\n",
       "      <td>127.000000</td>\n",
       "      <td>9.000000</td>\n",
       "    </tr>\n",
       "    <tr>\n",
       "      <th>75%</th>\n",
       "      <td>183.500000</td>\n",
       "      <td>9.000000</td>\n",
       "    </tr>\n",
       "    <tr>\n",
       "      <th>max</th>\n",
       "      <td>8389.000000</td>\n",
       "      <td>40.000000</td>\n",
       "    </tr>\n",
       "  </tbody>\n",
       "</table>\n",
       "</div>"
      ],
      "text/plain": [
       "       true_company_id  company_id\n",
       "count       227.000000  227.000000\n",
       "mean        790.656388    9.343612\n",
       "std        2251.823950    3.036065\n",
       "min           9.000000    1.000000\n",
       "25%          66.500000    9.000000\n",
       "50%         127.000000    9.000000\n",
       "75%         183.500000    9.000000\n",
       "max        8389.000000   40.000000"
      ]
     },
     "execution_count": 56,
     "metadata": {},
     "output_type": "execute_result"
    }
   ],
   "source": [
    "providers.describe()"
   ]
  },
  {
   "cell_type": "code",
   "execution_count": 57,
   "metadata": {},
   "outputs": [
    {
     "data": {
      "text/plain": [
       "true_company_id          0\n",
       "company_id               0\n",
       "provider_id             14\n",
       "company_name             0\n",
       "company_fullname         0\n",
       "has_wifi                 3\n",
       "has_plug                 3\n",
       "has_adjustable_seats     3\n",
       "has_bicycle              3\n",
       "transport_type           0\n",
       "dtype: int64"
      ]
     },
     "execution_count": 57,
     "metadata": {},
     "output_type": "execute_result"
    }
   ],
   "source": [
    "providers.isnull().sum()"
   ]
  },
  {
   "cell_type": "markdown",
   "metadata": {},
   "source": [
    "### Stations"
   ]
  },
  {
   "cell_type": "code",
   "execution_count": 58,
   "metadata": {},
   "outputs": [
    {
     "name": "stdout",
     "output_type": "stream",
     "text": [
      "(11035, 4)\n"
     ]
    },
    {
     "data": {
      "text/html": [
       "<div>\n",
       "<style scoped>\n",
       "    .dataframe tbody tr th:only-of-type {\n",
       "        vertical-align: middle;\n",
       "    }\n",
       "\n",
       "    .dataframe tbody tr th {\n",
       "        vertical-align: top;\n",
       "    }\n",
       "\n",
       "    .dataframe thead th {\n",
       "        text-align: right;\n",
       "    }\n",
       "</style>\n",
       "<table border=\"1\" class=\"dataframe\">\n",
       "  <thead>\n",
       "    <tr style=\"text-align: right;\">\n",
       "      <th></th>\n",
       "      <th>station_id</th>\n",
       "      <th>station_name</th>\n",
       "      <th>station_latitude</th>\n",
       "      <th>station_longitude</th>\n",
       "    </tr>\n",
       "  </thead>\n",
       "  <tbody>\n",
       "    <tr>\n",
       "      <th>0</th>\n",
       "      <td>1</td>\n",
       "      <td>Aalen (Stuttgarter Straße)</td>\n",
       "      <td>48.835296</td>\n",
       "      <td>10.092956</td>\n",
       "    </tr>\n",
       "    <tr>\n",
       "      <th>1</th>\n",
       "      <td>2</td>\n",
       "      <td>Aéroport Bordeaux-Mérignac</td>\n",
       "      <td>44.830226</td>\n",
       "      <td>-0.700883</td>\n",
       "    </tr>\n",
       "    <tr>\n",
       "      <th>2</th>\n",
       "      <td>3</td>\n",
       "      <td>Aéroport CDG</td>\n",
       "      <td>49.009900</td>\n",
       "      <td>2.559310</td>\n",
       "    </tr>\n",
       "    <tr>\n",
       "      <th>3</th>\n",
       "      <td>4</td>\n",
       "      <td>Aéroport de Berlin-Schönefeld</td>\n",
       "      <td>52.389446</td>\n",
       "      <td>13.520345</td>\n",
       "    </tr>\n",
       "    <tr>\n",
       "      <th>4</th>\n",
       "      <td>5</td>\n",
       "      <td>Aéroport de Dresden</td>\n",
       "      <td>51.123604</td>\n",
       "      <td>13.764737</td>\n",
       "    </tr>\n",
       "  </tbody>\n",
       "</table>\n",
       "</div>"
      ],
      "text/plain": [
       "   station_id                    station_name  station_latitude  \\\n",
       "0           1      Aalen (Stuttgarter Straße)         48.835296   \n",
       "1           2      Aéroport Bordeaux-Mérignac         44.830226   \n",
       "2           3                   Aéroport CDG          49.009900   \n",
       "3           4  Aéroport de Berlin-Schönefeld          52.389446   \n",
       "4           5             Aéroport de Dresden         51.123604   \n",
       "\n",
       "   station_longitude  \n",
       "0          10.092956  \n",
       "1          -0.700883  \n",
       "2           2.559310  \n",
       "3          13.520345  \n",
       "4          13.764737  "
      ]
     },
     "execution_count": 58,
     "metadata": {},
     "output_type": "execute_result"
    }
   ],
   "source": [
    "print(stations.shape)\n",
    "stations.head()\n"
   ]
  },
  {
   "cell_type": "code",
   "execution_count": 59,
   "metadata": {},
   "outputs": [
    {
     "data": {
      "text/html": [
       "<div>\n",
       "<style scoped>\n",
       "    .dataframe tbody tr th:only-of-type {\n",
       "        vertical-align: middle;\n",
       "    }\n",
       "\n",
       "    .dataframe tbody tr th {\n",
       "        vertical-align: top;\n",
       "    }\n",
       "\n",
       "    .dataframe thead th {\n",
       "        text-align: right;\n",
       "    }\n",
       "</style>\n",
       "<table border=\"1\" class=\"dataframe\">\n",
       "  <thead>\n",
       "    <tr style=\"text-align: right;\">\n",
       "      <th></th>\n",
       "      <th>station_id</th>\n",
       "      <th>station_latitude</th>\n",
       "      <th>station_longitude</th>\n",
       "    </tr>\n",
       "  </thead>\n",
       "  <tbody>\n",
       "    <tr>\n",
       "      <th>count</th>\n",
       "      <td>11035.000000</td>\n",
       "      <td>11035.000000</td>\n",
       "      <td>11035.000000</td>\n",
       "    </tr>\n",
       "    <tr>\n",
       "      <th>mean</th>\n",
       "      <td>5518.026914</td>\n",
       "      <td>47.526678</td>\n",
       "      <td>7.580807</td>\n",
       "    </tr>\n",
       "    <tr>\n",
       "      <th>std</th>\n",
       "      <td>3185.719813</td>\n",
       "      <td>3.953972</td>\n",
       "      <td>63.655681</td>\n",
       "    </tr>\n",
       "    <tr>\n",
       "      <th>min</th>\n",
       "      <td>1.000000</td>\n",
       "      <td>-22.355790</td>\n",
       "      <td>-22.625538</td>\n",
       "    </tr>\n",
       "    <tr>\n",
       "      <th>25%</th>\n",
       "      <td>2759.500000</td>\n",
       "      <td>44.896447</td>\n",
       "      <td>1.358655</td>\n",
       "    </tr>\n",
       "    <tr>\n",
       "      <th>50%</th>\n",
       "      <td>5518.000000</td>\n",
       "      <td>47.759670</td>\n",
       "      <td>5.824010</td>\n",
       "    </tr>\n",
       "    <tr>\n",
       "      <th>75%</th>\n",
       "      <td>8276.500000</td>\n",
       "      <td>50.349956</td>\n",
       "      <td>12.166133</td>\n",
       "    </tr>\n",
       "    <tr>\n",
       "      <th>max</th>\n",
       "      <td>11036.000000</td>\n",
       "      <td>64.137571</td>\n",
       "      <td>6645.000000</td>\n",
       "    </tr>\n",
       "  </tbody>\n",
       "</table>\n",
       "</div>"
      ],
      "text/plain": [
       "         station_id  station_latitude  station_longitude\n",
       "count  11035.000000      11035.000000       11035.000000\n",
       "mean    5518.026914         47.526678           7.580807\n",
       "std     3185.719813          3.953972          63.655681\n",
       "min        1.000000        -22.355790         -22.625538\n",
       "25%     2759.500000         44.896447           1.358655\n",
       "50%     5518.000000         47.759670           5.824010\n",
       "75%     8276.500000         50.349956          12.166133\n",
       "max    11036.000000         64.137571        6645.000000"
      ]
     },
     "execution_count": 59,
     "metadata": {},
     "output_type": "execute_result"
    }
   ],
   "source": [
    "stations.describe()"
   ]
  },
  {
   "cell_type": "code",
   "execution_count": 60,
   "metadata": {},
   "outputs": [
    {
     "data": {
      "text/plain": [
       "station_id           0\n",
       "station_name         0\n",
       "station_latitude     0\n",
       "station_longitude    0\n",
       "dtype: int64"
      ]
     },
     "execution_count": 60,
     "metadata": {},
     "output_type": "execute_result"
    }
   ],
   "source": [
    "stations.isnull().sum()"
   ]
  },
  {
   "cell_type": "markdown",
   "metadata": {},
   "source": [
    "### Tickets"
   ]
  },
  {
   "cell_type": "code",
   "execution_count": 61,
   "metadata": {},
   "outputs": [
    {
     "name": "stdout",
     "output_type": "stream",
     "text": [
      "(74168, 12)\n"
     ]
    },
    {
     "data": {
      "text/html": [
       "<div>\n",
       "<style scoped>\n",
       "    .dataframe tbody tr th:only-of-type {\n",
       "        vertical-align: middle;\n",
       "    }\n",
       "\n",
       "    .dataframe tbody tr th {\n",
       "        vertical-align: top;\n",
       "    }\n",
       "\n",
       "    .dataframe thead th {\n",
       "        text-align: right;\n",
       "    }\n",
       "</style>\n",
       "<table border=\"1\" class=\"dataframe\">\n",
       "  <thead>\n",
       "    <tr style=\"text-align: right;\">\n",
       "      <th></th>\n",
       "      <th>ticket_id</th>\n",
       "      <th>company</th>\n",
       "      <th>o_station</th>\n",
       "      <th>d_station</th>\n",
       "      <th>departure_ts</th>\n",
       "      <th>arrival_ts</th>\n",
       "      <th>price_in_cents</th>\n",
       "      <th>search_ts</th>\n",
       "      <th>middle_stations</th>\n",
       "      <th>other_companies</th>\n",
       "      <th>o_city</th>\n",
       "      <th>d_city</th>\n",
       "    </tr>\n",
       "  </thead>\n",
       "  <tbody>\n",
       "    <tr>\n",
       "      <th>0</th>\n",
       "      <td>6795025</td>\n",
       "      <td>8385</td>\n",
       "      <td>NaN</td>\n",
       "      <td>NaN</td>\n",
       "      <td>2017-10-13 14:00:00+00</td>\n",
       "      <td>2017-10-13 20:10:00+00</td>\n",
       "      <td>4550</td>\n",
       "      <td>2017-10-01 00:13:31.327+00</td>\n",
       "      <td>NaN</td>\n",
       "      <td>NaN</td>\n",
       "      <td>611</td>\n",
       "      <td>542</td>\n",
       "    </tr>\n",
       "    <tr>\n",
       "      <th>1</th>\n",
       "      <td>6795026</td>\n",
       "      <td>9</td>\n",
       "      <td>63.0</td>\n",
       "      <td>1044.0</td>\n",
       "      <td>2017-10-13 13:05:00+00</td>\n",
       "      <td>2017-10-14 06:55:00+00</td>\n",
       "      <td>1450</td>\n",
       "      <td>2017-10-01 00:13:35.773+00</td>\n",
       "      <td>{149,418}</td>\n",
       "      <td>{13}</td>\n",
       "      <td>611</td>\n",
       "      <td>542</td>\n",
       "    </tr>\n",
       "    <tr>\n",
       "      <th>2</th>\n",
       "      <td>6795027</td>\n",
       "      <td>8377</td>\n",
       "      <td>5905.0</td>\n",
       "      <td>6495.0</td>\n",
       "      <td>2017-10-13 13:27:00+00</td>\n",
       "      <td>2017-10-14 21:24:00+00</td>\n",
       "      <td>7400</td>\n",
       "      <td>2017-10-01 00:13:40.212+00</td>\n",
       "      <td>{798,798,6794,6246}</td>\n",
       "      <td>{8377,8376}</td>\n",
       "      <td>611</td>\n",
       "      <td>542</td>\n",
       "    </tr>\n",
       "    <tr>\n",
       "      <th>3</th>\n",
       "      <td>6795028</td>\n",
       "      <td>8377</td>\n",
       "      <td>5905.0</td>\n",
       "      <td>6495.0</td>\n",
       "      <td>2017-10-13 13:27:00+00</td>\n",
       "      <td>2017-10-14 11:02:00+00</td>\n",
       "      <td>13500</td>\n",
       "      <td>2017-10-01 00:13:40.213+00</td>\n",
       "      <td>{798,798,6794,6246}</td>\n",
       "      <td>{8377,8376}</td>\n",
       "      <td>611</td>\n",
       "      <td>542</td>\n",
       "    </tr>\n",
       "    <tr>\n",
       "      <th>4</th>\n",
       "      <td>6795029</td>\n",
       "      <td>8381</td>\n",
       "      <td>5905.0</td>\n",
       "      <td>6495.0</td>\n",
       "      <td>2017-10-13 21:46:00+00</td>\n",
       "      <td>2017-10-14 19:32:00+00</td>\n",
       "      <td>7710</td>\n",
       "      <td>2017-10-01 00:13:40.213+00</td>\n",
       "      <td>{5983,5983}</td>\n",
       "      <td>{8380}</td>\n",
       "      <td>611</td>\n",
       "      <td>542</td>\n",
       "    </tr>\n",
       "  </tbody>\n",
       "</table>\n",
       "</div>"
      ],
      "text/plain": [
       "   ticket_id  company  o_station  d_station            departure_ts  \\\n",
       "0    6795025     8385        NaN        NaN  2017-10-13 14:00:00+00   \n",
       "1    6795026        9       63.0     1044.0  2017-10-13 13:05:00+00   \n",
       "2    6795027     8377     5905.0     6495.0  2017-10-13 13:27:00+00   \n",
       "3    6795028     8377     5905.0     6495.0  2017-10-13 13:27:00+00   \n",
       "4    6795029     8381     5905.0     6495.0  2017-10-13 21:46:00+00   \n",
       "\n",
       "               arrival_ts  price_in_cents                   search_ts  \\\n",
       "0  2017-10-13 20:10:00+00            4550  2017-10-01 00:13:31.327+00   \n",
       "1  2017-10-14 06:55:00+00            1450  2017-10-01 00:13:35.773+00   \n",
       "2  2017-10-14 21:24:00+00            7400  2017-10-01 00:13:40.212+00   \n",
       "3  2017-10-14 11:02:00+00           13500  2017-10-01 00:13:40.213+00   \n",
       "4  2017-10-14 19:32:00+00            7710  2017-10-01 00:13:40.213+00   \n",
       "\n",
       "       middle_stations other_companies  o_city  d_city  \n",
       "0                  NaN             NaN     611     542  \n",
       "1            {149,418}            {13}     611     542  \n",
       "2  {798,798,6794,6246}     {8377,8376}     611     542  \n",
       "3  {798,798,6794,6246}     {8377,8376}     611     542  \n",
       "4          {5983,5983}          {8380}     611     542  "
      ]
     },
     "execution_count": 61,
     "metadata": {},
     "output_type": "execute_result"
    }
   ],
   "source": [
    "print(ticket.shape)\n",
    "ticket.head()"
   ]
  },
  {
   "cell_type": "code",
   "execution_count": 62,
   "metadata": {},
   "outputs": [
    {
     "data": {
      "text/html": [
       "<div>\n",
       "<style scoped>\n",
       "    .dataframe tbody tr th:only-of-type {\n",
       "        vertical-align: middle;\n",
       "    }\n",
       "\n",
       "    .dataframe tbody tr th {\n",
       "        vertical-align: top;\n",
       "    }\n",
       "\n",
       "    .dataframe thead th {\n",
       "        text-align: right;\n",
       "    }\n",
       "</style>\n",
       "<table border=\"1\" class=\"dataframe\">\n",
       "  <thead>\n",
       "    <tr style=\"text-align: right;\">\n",
       "      <th></th>\n",
       "      <th>ticket_id</th>\n",
       "      <th>company</th>\n",
       "      <th>o_station</th>\n",
       "      <th>d_station</th>\n",
       "      <th>price_in_cents</th>\n",
       "      <th>o_city</th>\n",
       "      <th>d_city</th>\n",
       "    </tr>\n",
       "  </thead>\n",
       "  <tbody>\n",
       "    <tr>\n",
       "      <th>count</th>\n",
       "      <td>7.416800e+04</td>\n",
       "      <td>74168.000000</td>\n",
       "      <td>32727.000000</td>\n",
       "      <td>32727.000000</td>\n",
       "      <td>74168.000000</td>\n",
       "      <td>74168.000000</td>\n",
       "      <td>74168.000000</td>\n",
       "    </tr>\n",
       "    <tr>\n",
       "      <th>mean</th>\n",
       "      <td>6.832108e+06</td>\n",
       "      <td>7109.565527</td>\n",
       "      <td>2907.132673</td>\n",
       "      <td>2347.858129</td>\n",
       "      <td>4382.711061</td>\n",
       "      <td>849.186105</td>\n",
       "      <td>883.776265</td>\n",
       "    </tr>\n",
       "    <tr>\n",
       "      <th>std</th>\n",
       "      <td>2.141060e+04</td>\n",
       "      <td>3005.380792</td>\n",
       "      <td>3347.629180</td>\n",
       "      <td>3090.798007</td>\n",
       "      <td>3739.325367</td>\n",
       "      <td>1485.791782</td>\n",
       "      <td>1654.698575</td>\n",
       "    </tr>\n",
       "    <tr>\n",
       "      <th>min</th>\n",
       "      <td>6.795025e+06</td>\n",
       "      <td>9.000000</td>\n",
       "      <td>3.000000</td>\n",
       "      <td>3.000000</td>\n",
       "      <td>300.000000</td>\n",
       "      <td>5.000000</td>\n",
       "      <td>1.000000</td>\n",
       "    </tr>\n",
       "    <tr>\n",
       "      <th>25%</th>\n",
       "      <td>6.813567e+06</td>\n",
       "      <td>8376.000000</td>\n",
       "      <td>400.000000</td>\n",
       "      <td>396.000000</td>\n",
       "      <td>1900.000000</td>\n",
       "      <td>485.000000</td>\n",
       "      <td>453.000000</td>\n",
       "    </tr>\n",
       "    <tr>\n",
       "      <th>50%</th>\n",
       "      <td>6.832108e+06</td>\n",
       "      <td>8385.000000</td>\n",
       "      <td>701.000000</td>\n",
       "      <td>575.000000</td>\n",
       "      <td>3350.000000</td>\n",
       "      <td>628.000000</td>\n",
       "      <td>562.000000</td>\n",
       "    </tr>\n",
       "    <tr>\n",
       "      <th>75%</th>\n",
       "      <td>6.850650e+06</td>\n",
       "      <td>8385.000000</td>\n",
       "      <td>6246.000000</td>\n",
       "      <td>4538.000000</td>\n",
       "      <td>5250.000000</td>\n",
       "      <td>628.000000</td>\n",
       "      <td>628.000000</td>\n",
       "    </tr>\n",
       "    <tr>\n",
       "      <th>max</th>\n",
       "      <td>6.869192e+06</td>\n",
       "      <td>8387.000000</td>\n",
       "      <td>11017.000000</td>\n",
       "      <td>11017.000000</td>\n",
       "      <td>38550.000000</td>\n",
       "      <td>12190.000000</td>\n",
       "      <td>12190.000000</td>\n",
       "    </tr>\n",
       "  </tbody>\n",
       "</table>\n",
       "</div>"
      ],
      "text/plain": [
       "          ticket_id       company     o_station     d_station  price_in_cents  \\\n",
       "count  7.416800e+04  74168.000000  32727.000000  32727.000000    74168.000000   \n",
       "mean   6.832108e+06   7109.565527   2907.132673   2347.858129     4382.711061   \n",
       "std    2.141060e+04   3005.380792   3347.629180   3090.798007     3739.325367   \n",
       "min    6.795025e+06      9.000000      3.000000      3.000000      300.000000   \n",
       "25%    6.813567e+06   8376.000000    400.000000    396.000000     1900.000000   \n",
       "50%    6.832108e+06   8385.000000    701.000000    575.000000     3350.000000   \n",
       "75%    6.850650e+06   8385.000000   6246.000000   4538.000000     5250.000000   \n",
       "max    6.869192e+06   8387.000000  11017.000000  11017.000000    38550.000000   \n",
       "\n",
       "             o_city        d_city  \n",
       "count  74168.000000  74168.000000  \n",
       "mean     849.186105    883.776265  \n",
       "std     1485.791782   1654.698575  \n",
       "min        5.000000      1.000000  \n",
       "25%      485.000000    453.000000  \n",
       "50%      628.000000    562.000000  \n",
       "75%      628.000000    628.000000  \n",
       "max    12190.000000  12190.000000  "
      ]
     },
     "execution_count": 62,
     "metadata": {},
     "output_type": "execute_result"
    }
   ],
   "source": [
    "ticket.describe()"
   ]
  },
  {
   "cell_type": "code",
   "execution_count": 63,
   "metadata": {},
   "outputs": [
    {
     "data": {
      "text/plain": [
       "ticket_id              0\n",
       "company                0\n",
       "o_station          41441\n",
       "d_station          41441\n",
       "departure_ts           0\n",
       "arrival_ts             0\n",
       "price_in_cents         0\n",
       "search_ts              0\n",
       "middle_stations    41441\n",
       "other_companies    41441\n",
       "o_city                 0\n",
       "d_city                 0\n",
       "dtype: int64"
      ]
     },
     "execution_count": 63,
     "metadata": {},
     "output_type": "execute_result"
    }
   ],
   "source": [
    "ticket.isnull().sum()"
   ]
  },
  {
   "cell_type": "markdown",
   "metadata": {},
   "source": [
    "## Handling Missing Values Using SimpleImputer from Scikit-Learn\n",
    "\n",
    "In this scenario, the `SimpleImputer` class from Scikit-Learn is employed to replace missing values with the most frequent data found within each column across multiple datasets. This technique helps in ensuring that missing values are substituted with the most commonly occurring values, thus preserving the integrity of the data.\n",
    "\n",
    "The Python code snippet below demonstrates the application of `SimpleImputer` for each dataset:"
   ]
  },
  {
   "cell_type": "code",
   "execution_count": 65,
   "metadata": {},
   "outputs": [],
   "source": [
    "\n",
    "my_imputer = SimpleImputer(strategy='most_frequent')\n",
    "\n",
    "tickets = pd.DataFrame(my_imputer.fit_transform(ticket), columns=ticket.columns)\n",
    "cities = pd.DataFrame(my_imputer.fit_transform(cities), columns=cities.columns)\n",
    "stations = pd.DataFrame(my_imputer.fit_transform(stations), columns=stations.columns)\n",
    "providers = pd.DataFrame(my_imputer.fit_transform(providers), columns=providers.columns)\n",
    "     "
   ]
  },
  {
   "cell_type": "markdown",
   "metadata": {},
   "source": [
    "##  Calculating the Prices"
   ]
  },
  {
   "cell_type": "code",
   "execution_count": 77,
   "metadata": {},
   "outputs": [
    {
     "name": "stdout",
     "output_type": "stream",
     "text": [
      "Price Information:\n",
      "Minimum Price: 300 cents --> 3.0 euros \n",
      "Maximum Price: 38550 cents --> 385.5 euros \n",
      "Average Price: 4382.71 cents --> 43.83 euros \n",
      "\n"
     ]
    }
   ],
   "source": [
    "# Minimum, average, and maximum prices\n",
    "min_price = ticket['price_in_cents'].min()\n",
    "max_price = ticket['price_in_cents'].max()\n",
    "mean_price = ticket['price_in_cents'].mean()\n",
    "\n",
    "print(f\"Price Information:\")\n",
    "print(f\"Minimum Price: {min_price} cents --> {min_price/100} euros \")\n",
    "print(f\"Maximum Price: {max_price} cents --> {max_price/100} euros \")\n",
    "print(f\"Average Price: {mean_price:.2f} cents --> {(mean_price/100):.2f} euros \\n\")"
   ]
  },
  {
   "cell_type": "code",
   "execution_count": 85,
   "metadata": {},
   "outputs": [
    {
     "name": "stdout",
     "output_type": "stream",
     "text": [
      "19.0\n",
      "33.5\n",
      "52.5\n"
     ]
    }
   ],
   "source": [
    "# more details in cents : LES PERCENTILES\n",
    "Q1_25e_percentile=ticket.price_in_cents.describe()['25%']\n",
    "Median=ticket.price_in_cents.describe()['50%']\n",
    "Q3_75e_percentile=ticket.price_in_cents.describe()['75%']\n",
    "print(Q1_25e_percentile/100)\n",
    "print(Median/100)\n",
    "print(Q3_75e_percentile/100)"
   ]
  },
  {
   "cell_type": "code",
   "execution_count": null,
   "metadata": {},
   "outputs": [],
   "source": []
  },
  {
   "cell_type": "code",
   "execution_count": null,
   "metadata": {},
   "outputs": [],
   "source": []
  },
  {
   "cell_type": "markdown",
   "metadata": {},
   "source": []
  }
 ],
 "metadata": {
  "kernelspec": {
   "display_name": "base",
   "language": "python",
   "name": "python3"
  },
  "language_info": {
   "codemirror_mode": {
    "name": "ipython",
    "version": 3
   },
   "file_extension": ".py",
   "mimetype": "text/x-python",
   "name": "python",
   "nbconvert_exporter": "python",
   "pygments_lexer": "ipython3",
   "version": "3.11.4"
  },
  "orig_nbformat": 4
 },
 "nbformat": 4,
 "nbformat_minor": 2
}
